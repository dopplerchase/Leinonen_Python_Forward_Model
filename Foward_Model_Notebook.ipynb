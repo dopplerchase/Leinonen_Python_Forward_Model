{
  "nbformat": 4,
  "nbformat_minor": 0,
  "metadata": {
    "colab": {
      "name": "Foward_Model_Notebook.ipynb",
      "provenance": [],
      "authorship_tag": "ABX9TyOA5HCqAFk6L7Or7kJ3b+IW",
      "include_colab_link": true
    },
    "kernelspec": {
      "name": "python3",
      "display_name": "Python 3"
    }
  },
  "cells": [
    {
      "cell_type": "markdown",
      "metadata": {
        "id": "view-in-github",
        "colab_type": "text"
      },
      "source": [
        "<a href=\"https://colab.research.google.com/github/dopplerchase/Leinonen_Python_Forward_Model/blob/master/Foward_Model_Notebook.ipynb\" target=\"_parent\"><img src=\"https://colab.research.google.com/assets/colab-badge.svg\" alt=\"Open In Colab\"/></a>"
      ]
    },
    {
      "cell_type": "markdown",
      "metadata": {
        "id": "zqxgnfaYaeAe",
        "colab_type": "text"
      },
      "source": [
        "# Forward Modeling Z from a PSD (SNOW)\n",
        "\n",
        "Here is an example of calculating Z at common microwave wavelengths from a measured PSD. \n",
        "\n",
        "First up, download the repository. It has the code, sample data to play with and Leinonen and Szyrmer (2015)'s results. "
      ]
    },
    {
      "cell_type": "code",
      "metadata": {
        "id": "LL5-ep4PaTHX",
        "colab_type": "code",
        "colab": {
          "base_uri": "https://localhost:8080/",
          "height": 119
        },
        "outputId": "a71899d5-b1d7-4ed5-b48c-2111767d6859"
      },
      "source": [
        "!git clone https://github.com/dopplerchase/Leinonen_Python_Forward_Model.git"
      ],
      "execution_count": 1,
      "outputs": [
        {
          "output_type": "stream",
          "text": [
            "Cloning into 'Leinonen_Python_Forward_Model'...\n",
            "remote: Enumerating objects: 24, done.\u001b[K\n",
            "remote: Counting objects: 100% (24/24), done.\u001b[K\n",
            "remote: Compressing objects: 100% (23/23), done.\u001b[K\n",
            "remote: Total 33 (delta 9), reused 0 (delta 0), pack-reused 9\u001b[K\n",
            "Unpacking objects: 100% (33/33), done.\n"
          ],
          "name": "stdout"
        }
      ]
    },
    {
      "cell_type": "markdown",
      "metadata": {
        "id": "nwjbcu_abCgm",
        "colab_type": "text"
      },
      "source": [
        "Install netCDF4 to read the sample PSD in and pytmatrix for coefs in the calc"
      ]
    },
    {
      "cell_type": "code",
      "metadata": {
        "id": "hx7OcQrKa3XE",
        "colab_type": "code",
        "colab": {
          "base_uri": "https://localhost:8080/",
          "height": 255
        },
        "outputId": "1d69534d-2c54-4c8e-f60a-d9364c05be42"
      },
      "source": [
        "!pip install netCDF4\n",
        "!pip install pytmatrix\n",
        "\n",
        "# comment out if you dont want my style plots \n",
        "!pip install git+https://github.com/dopplerchase/DRpy.git\n",
        "import drpy"
      ],
      "execution_count": 19,
      "outputs": [
        {
          "output_type": "stream",
          "text": [
            "Requirement already satisfied: netCDF4 in /usr/local/lib/python3.6/dist-packages (1.5.3)\n",
            "Requirement already satisfied: numpy>=1.7 in /usr/local/lib/python3.6/dist-packages (from netCDF4) (1.18.4)\n",
            "Requirement already satisfied: cftime in /usr/local/lib/python3.6/dist-packages (from netCDF4) (1.1.3)\n",
            "Requirement already satisfied: pytmatrix in /usr/local/lib/python3.6/dist-packages (0.3.2)\n",
            "Collecting git+https://github.com/dopplerchase/DRpy.git\n",
            "  Cloning https://github.com/dopplerchase/DRpy.git to /tmp/pip-req-build-3pajtsht\n",
            "  Running command git clone -q https://github.com/dopplerchase/DRpy.git /tmp/pip-req-build-3pajtsht\n",
            "Building wheels for collected packages: DRpy\n",
            "  Building wheel for DRpy (setup.py) ... \u001b[?25l\u001b[?25hdone\n",
            "  Created wheel for DRpy: filename=DRpy-0.0.0-cp36-none-any.whl size=49344 sha256=7cd9b22be396420b0b09fa9168c55eede5afeb5a29eda7b55f47b3c8f4ec873c\n",
            "  Stored in directory: /tmp/pip-ephem-wheel-cache-gy468c69/wheels/38/6d/b7/910e8e07b5b2348384992db25ecb85a0a60d51b873db4cf749\n",
            "Successfully built DRpy\n",
            "Installing collected packages: DRpy\n",
            "Successfully installed DRpy-0.0.0\n"
          ],
          "name": "stdout"
        }
      ]
    },
    {
      "cell_type": "markdown",
      "metadata": {
        "id": "oSWfUWlTbJh8",
        "colab_type": "text"
      },
      "source": [
        "import packages "
      ]
    },
    {
      "cell_type": "code",
      "metadata": {
        "id": "frVR2913bGxV",
        "colab_type": "code",
        "colab": {
          "base_uri": "https://localhost:8080/",
          "height": 34
        },
        "outputId": "14374558-f274-486b-a207-c2ded8de4bb3"
      },
      "source": [
        "import netCDF4 \n",
        "import xarray as xr \n",
        "import scipy.interpolate\n",
        "import pandas as pd \n",
        "import os \n",
        "\n",
        "#change dir \n",
        "os.chdir('/content/Leinonen_Python_Forward_Model/')\n",
        "\n",
        "from forward import *\n",
        "\n",
        "%pylab inline \n",
        "\n",
        "\n"
      ],
      "execution_count": 3,
      "outputs": [
        {
          "output_type": "stream",
          "text": [
            "Populating the interactive namespace from numpy and matplotlib\n"
          ],
          "name": "stdout"
        }
      ]
    },
    {
      "cell_type": "code",
      "metadata": {
        "id": "GdqItDbIejWc",
        "colab_type": "code",
        "colab": {
          "base_uri": "https://localhost:8080/",
          "height": 227
        },
        "outputId": "3df36640-2384-4a6d-ff65-270f8d5e8ef3"
      },
      "source": [
        "psd = xr.open_dataarray('./SAMPLE_OLYMPEX.nc')\n",
        "psd"
      ],
      "execution_count": 4,
      "outputs": [
        {
          "output_type": "execute_result",
          "data": {
            "text/html": [
              "<div><svg style=\"position: absolute; width: 0; height: 0; overflow: hidden\">\n",
              "<defs>\n",
              "<symbol id=\"icon-database\" viewBox=\"0 0 32 32\">\n",
              "<title>Show/Hide data repr</title>\n",
              "<path d=\"M16 0c-8.837 0-16 2.239-16 5v4c0 2.761 7.163 5 16 5s16-2.239 16-5v-4c0-2.761-7.163-5-16-5z\"></path>\n",
              "<path d=\"M16 17c-8.837 0-16-2.239-16-5v6c0 2.761 7.163 5 16 5s16-2.239 16-5v-6c0 2.761-7.163 5-16 5z\"></path>\n",
              "<path d=\"M16 26c-8.837 0-16-2.239-16-5v6c0 2.761 7.163 5 16 5s16-2.239 16-5v-6c0 2.761-7.163 5-16 5z\"></path>\n",
              "</symbol>\n",
              "<symbol id=\"icon-file-text2\" viewBox=\"0 0 32 32\">\n",
              "<title>Show/Hide attributes</title>\n",
              "<path d=\"M28.681 7.159c-0.694-0.947-1.662-2.053-2.724-3.116s-2.169-2.030-3.116-2.724c-1.612-1.182-2.393-1.319-2.841-1.319h-15.5c-1.378 0-2.5 1.121-2.5 2.5v27c0 1.378 1.122 2.5 2.5 2.5h23c1.378 0 2.5-1.122 2.5-2.5v-19.5c0-0.448-0.137-1.23-1.319-2.841zM24.543 5.457c0.959 0.959 1.712 1.825 2.268 2.543h-4.811v-4.811c0.718 0.556 1.584 1.309 2.543 2.268zM28 29.5c0 0.271-0.229 0.5-0.5 0.5h-23c-0.271 0-0.5-0.229-0.5-0.5v-27c0-0.271 0.229-0.5 0.5-0.5 0 0 15.499-0 15.5 0v7c0 0.552 0.448 1 1 1h7v19.5z\"></path>\n",
              "<path d=\"M23 26h-14c-0.552 0-1-0.448-1-1s0.448-1 1-1h14c0.552 0 1 0.448 1 1s-0.448 1-1 1z\"></path>\n",
              "<path d=\"M23 22h-14c-0.552 0-1-0.448-1-1s0.448-1 1-1h14c0.552 0 1 0.448 1 1s-0.448 1-1 1z\"></path>\n",
              "<path d=\"M23 18h-14c-0.552 0-1-0.448-1-1s0.448-1 1-1h14c0.552 0 1 0.448 1 1s-0.448 1-1 1z\"></path>\n",
              "</symbol>\n",
              "</defs>\n",
              "</svg>\n",
              "<style>/* CSS stylesheet for displaying xarray objects in jupyterlab.\n",
              " *\n",
              " */\n",
              "\n",
              ":root {\n",
              "  --xr-font-color0: var(--jp-content-font-color0, rgba(0, 0, 0, 1));\n",
              "  --xr-font-color2: var(--jp-content-font-color2, rgba(0, 0, 0, 0.54));\n",
              "  --xr-font-color3: var(--jp-content-font-color3, rgba(0, 0, 0, 0.38));\n",
              "  --xr-border-color: var(--jp-border-color2, #e0e0e0);\n",
              "  --xr-disabled-color: var(--jp-layout-color3, #bdbdbd);\n",
              "  --xr-background-color: var(--jp-layout-color0, white);\n",
              "  --xr-background-color-row-even: var(--jp-layout-color1, white);\n",
              "  --xr-background-color-row-odd: var(--jp-layout-color2, #eeeeee);\n",
              "}\n",
              "\n",
              ".xr-wrap {\n",
              "  min-width: 300px;\n",
              "  max-width: 700px;\n",
              "}\n",
              "\n",
              ".xr-header {\n",
              "  padding-top: 6px;\n",
              "  padding-bottom: 6px;\n",
              "  margin-bottom: 4px;\n",
              "  border-bottom: solid 1px var(--xr-border-color);\n",
              "}\n",
              "\n",
              ".xr-header > div,\n",
              ".xr-header > ul {\n",
              "  display: inline;\n",
              "  margin-top: 0;\n",
              "  margin-bottom: 0;\n",
              "}\n",
              "\n",
              ".xr-obj-type,\n",
              ".xr-array-name {\n",
              "  margin-left: 2px;\n",
              "  margin-right: 10px;\n",
              "}\n",
              "\n",
              ".xr-obj-type {\n",
              "  color: var(--xr-font-color2);\n",
              "}\n",
              "\n",
              ".xr-sections {\n",
              "  padding-left: 0 !important;\n",
              "  display: grid;\n",
              "  grid-template-columns: 150px auto auto 1fr 20px 20px;\n",
              "}\n",
              "\n",
              ".xr-section-item {\n",
              "  display: contents;\n",
              "}\n",
              "\n",
              ".xr-section-item input {\n",
              "  display: none;\n",
              "}\n",
              "\n",
              ".xr-section-item input + label {\n",
              "  color: var(--xr-disabled-color);\n",
              "}\n",
              "\n",
              ".xr-section-item input:enabled + label {\n",
              "  cursor: pointer;\n",
              "  color: var(--xr-font-color2);\n",
              "}\n",
              "\n",
              ".xr-section-item input:enabled + label:hover {\n",
              "  color: var(--xr-font-color0);\n",
              "}\n",
              "\n",
              ".xr-section-summary {\n",
              "  grid-column: 1;\n",
              "  color: var(--xr-font-color2);\n",
              "  font-weight: 500;\n",
              "}\n",
              "\n",
              ".xr-section-summary > span {\n",
              "  display: inline-block;\n",
              "  padding-left: 0.5em;\n",
              "}\n",
              "\n",
              ".xr-section-summary-in:disabled + label {\n",
              "  color: var(--xr-font-color2);\n",
              "}\n",
              "\n",
              ".xr-section-summary-in + label:before {\n",
              "  display: inline-block;\n",
              "  content: '►';\n",
              "  font-size: 11px;\n",
              "  width: 15px;\n",
              "  text-align: center;\n",
              "}\n",
              "\n",
              ".xr-section-summary-in:disabled + label:before {\n",
              "  color: var(--xr-disabled-color);\n",
              "}\n",
              "\n",
              ".xr-section-summary-in:checked + label:before {\n",
              "  content: '▼';\n",
              "}\n",
              "\n",
              ".xr-section-summary-in:checked + label > span {\n",
              "  display: none;\n",
              "}\n",
              "\n",
              ".xr-section-summary,\n",
              ".xr-section-inline-details {\n",
              "  padding-top: 4px;\n",
              "  padding-bottom: 4px;\n",
              "}\n",
              "\n",
              ".xr-section-inline-details {\n",
              "  grid-column: 2 / -1;\n",
              "}\n",
              "\n",
              ".xr-section-details {\n",
              "  display: none;\n",
              "  grid-column: 1 / -1;\n",
              "  margin-bottom: 5px;\n",
              "}\n",
              "\n",
              ".xr-section-summary-in:checked ~ .xr-section-details {\n",
              "  display: contents;\n",
              "}\n",
              "\n",
              ".xr-array-wrap {\n",
              "  grid-column: 1 / -1;\n",
              "  display: grid;\n",
              "  grid-template-columns: 20px auto;\n",
              "}\n",
              "\n",
              ".xr-array-wrap > label {\n",
              "  grid-column: 1;\n",
              "  vertical-align: top;\n",
              "}\n",
              "\n",
              ".xr-preview {\n",
              "  color: var(--xr-font-color3);\n",
              "}\n",
              "\n",
              ".xr-array-preview,\n",
              ".xr-array-data {\n",
              "  padding: 0 5px !important;\n",
              "  grid-column: 2;\n",
              "}\n",
              "\n",
              ".xr-array-data,\n",
              ".xr-array-in:checked ~ .xr-array-preview {\n",
              "  display: none;\n",
              "}\n",
              "\n",
              ".xr-array-in:checked ~ .xr-array-data,\n",
              ".xr-array-preview {\n",
              "  display: inline-block;\n",
              "}\n",
              "\n",
              ".xr-dim-list {\n",
              "  display: inline-block !important;\n",
              "  list-style: none;\n",
              "  padding: 0 !important;\n",
              "  margin: 0;\n",
              "}\n",
              "\n",
              ".xr-dim-list li {\n",
              "  display: inline-block;\n",
              "  padding: 0;\n",
              "  margin: 0;\n",
              "}\n",
              "\n",
              ".xr-dim-list:before {\n",
              "  content: '(';\n",
              "}\n",
              "\n",
              ".xr-dim-list:after {\n",
              "  content: ')';\n",
              "}\n",
              "\n",
              ".xr-dim-list li:not(:last-child):after {\n",
              "  content: ',';\n",
              "  padding-right: 5px;\n",
              "}\n",
              "\n",
              ".xr-has-index {\n",
              "  font-weight: bold;\n",
              "}\n",
              "\n",
              ".xr-var-list,\n",
              ".xr-var-item {\n",
              "  display: contents;\n",
              "}\n",
              "\n",
              ".xr-var-item > div,\n",
              ".xr-var-item label,\n",
              ".xr-var-item > .xr-var-name span {\n",
              "  background-color: var(--xr-background-color-row-even);\n",
              "  margin-bottom: 0;\n",
              "}\n",
              "\n",
              ".xr-var-item > .xr-var-name:hover span {\n",
              "  padding-right: 5px;\n",
              "}\n",
              "\n",
              ".xr-var-list > li:nth-child(odd) > div,\n",
              ".xr-var-list > li:nth-child(odd) > label,\n",
              ".xr-var-list > li:nth-child(odd) > .xr-var-name span {\n",
              "  background-color: var(--xr-background-color-row-odd);\n",
              "}\n",
              "\n",
              ".xr-var-name {\n",
              "  grid-column: 1;\n",
              "}\n",
              "\n",
              ".xr-var-dims {\n",
              "  grid-column: 2;\n",
              "}\n",
              "\n",
              ".xr-var-dtype {\n",
              "  grid-column: 3;\n",
              "  text-align: right;\n",
              "  color: var(--xr-font-color2);\n",
              "}\n",
              "\n",
              ".xr-var-preview {\n",
              "  grid-column: 4;\n",
              "}\n",
              "\n",
              ".xr-var-name,\n",
              ".xr-var-dims,\n",
              ".xr-var-dtype,\n",
              ".xr-preview,\n",
              ".xr-attrs dt {\n",
              "  white-space: nowrap;\n",
              "  overflow: hidden;\n",
              "  text-overflow: ellipsis;\n",
              "  padding-right: 10px;\n",
              "}\n",
              "\n",
              ".xr-var-name:hover,\n",
              ".xr-var-dims:hover,\n",
              ".xr-var-dtype:hover,\n",
              ".xr-attrs dt:hover {\n",
              "  overflow: visible;\n",
              "  width: auto;\n",
              "  z-index: 1;\n",
              "}\n",
              "\n",
              ".xr-var-attrs,\n",
              ".xr-var-data {\n",
              "  display: none;\n",
              "  background-color: var(--xr-background-color) !important;\n",
              "  padding-bottom: 5px !important;\n",
              "}\n",
              "\n",
              ".xr-var-attrs-in:checked ~ .xr-var-attrs,\n",
              ".xr-var-data-in:checked ~ .xr-var-data {\n",
              "  display: block;\n",
              "}\n",
              "\n",
              ".xr-var-data > table {\n",
              "  float: right;\n",
              "}\n",
              "\n",
              ".xr-var-name span,\n",
              ".xr-var-data,\n",
              ".xr-attrs {\n",
              "  padding-left: 25px !important;\n",
              "}\n",
              "\n",
              ".xr-attrs,\n",
              ".xr-var-attrs,\n",
              ".xr-var-data {\n",
              "  grid-column: 1 / -1;\n",
              "}\n",
              "\n",
              "dl.xr-attrs {\n",
              "  padding: 0;\n",
              "  margin: 0;\n",
              "  display: grid;\n",
              "  grid-template-columns: 125px auto;\n",
              "}\n",
              "\n",
              ".xr-attrs dt, dd {\n",
              "  padding: 0;\n",
              "  margin: 0;\n",
              "  float: left;\n",
              "  padding-right: 10px;\n",
              "  width: auto;\n",
              "}\n",
              "\n",
              ".xr-attrs dt {\n",
              "  font-weight: normal;\n",
              "  grid-column: 1;\n",
              "}\n",
              "\n",
              ".xr-attrs dt:hover span {\n",
              "  display: inline-block;\n",
              "  background: var(--xr-background-color);\n",
              "  padding-right: 10px;\n",
              "}\n",
              "\n",
              ".xr-attrs dd {\n",
              "  grid-column: 2;\n",
              "  white-space: pre-wrap;\n",
              "  word-break: break-all;\n",
              "}\n",
              "\n",
              ".xr-icon-database,\n",
              ".xr-icon-file-text2 {\n",
              "  display: inline-block;\n",
              "  vertical-align: middle;\n",
              "  width: 1em;\n",
              "  height: 1.5em !important;\n",
              "  stroke-width: 0;\n",
              "  stroke: currentColor;\n",
              "  fill: currentColor;\n",
              "}\n",
              "</style><div class='xr-wrap'><div class='xr-header'><div class='xr-obj-type'>xarray.DataArray</div><div class='xr-array-name'></div><ul class='xr-dim-list'><li><span>n_sample</span>: 2000</li><li><span>D_bin</span>: 41</li></ul></div><ul class='xr-sections'><li class='xr-section-item'><div class='xr-array-wrap'><input id='section-b596d4e1-6092-4dc5-9bcd-c3fc3f5fd883' class='xr-array-in' type='checkbox' ><label for='section-b596d4e1-6092-4dc5-9bcd-c3fc3f5fd883' title='Show/hide data repr'><svg class='icon xr-icon-database'><use xlink:href='#icon-database'></use></svg></label><div class='xr-array-preview xr-preview'><span>0.0 0.0 0.0 0.0 0.0 0.0 0.0 0.0 ... 1.634e+03 0.0 0.0 0.0 0.0 0.0 0.0</span></div><pre class='xr-array-data'>array([[       0.      ,        0.      ,        0.      , ...,\n",
              "                    nan,             nan,             nan],\n",
              "       [            nan,             nan,             nan, ...,\n",
              "                    nan,             nan,             nan],\n",
              "       [            nan,             nan,             nan, ...,\n",
              "                    nan,             nan,             nan],\n",
              "       ...,\n",
              "       [30738672.269088,        0.      ,        0.      , ...,\n",
              "               0.      ,        0.      ,        0.      ],\n",
              "       [       0.      , 62776142.268432,  9493922.750473, ...,\n",
              "               0.      ,        0.      ,        0.      ],\n",
              "       [       0.      ,        0.      ,        0.      , ...,\n",
              "               0.      ,        0.      ,        0.      ]])</pre></div></li><li class='xr-section-item'><input id='section-7612da89-0247-45cc-9d1f-abdd95132db8' class='xr-section-summary-in' type='checkbox'  checked><label for='section-7612da89-0247-45cc-9d1f-abdd95132db8' class='xr-section-summary' >Coordinates: <span>(3)</span></label><div class='xr-section-inline-details'></div><div class='xr-section-details'><ul class='xr-var-list'><li class='xr-var-item'><div class='xr-var-name'><span>time</span></div><div class='xr-var-dims'>(n_sample)</div><div class='xr-var-dtype'>datetime64[ns]</div><div class='xr-var-preview xr-preview'>...</div><input id='attrs-2dd9c66a-cf1e-476b-9d17-e9087e401a81' class='xr-var-attrs-in' type='checkbox' disabled><label for='attrs-2dd9c66a-cf1e-476b-9d17-e9087e401a81' title='Show/Hide attributes'><svg class='icon xr-icon-file-text2'><use xlink:href='#icon-file-text2'></use></svg></label><input id='data-0d2cc532-5315-4239-977f-e7f2fb6f63af' class='xr-var-data-in' type='checkbox'><label for='data-0d2cc532-5315-4239-977f-e7f2fb6f63af' title='Show/Hide data repr'><svg class='icon xr-icon-database'><use xlink:href='#icon-database'></use></svg></label><div class='xr-var-attrs'><dl class='xr-attrs'></dl></div><pre class='xr-var-data'>array([&#x27;2015-12-01T22:46:00.000000000&#x27;, &#x27;2015-12-01T22:46:05.000000000&#x27;,\n",
              "       &#x27;2015-12-01T22:46:10.000000000&#x27;, ..., &#x27;2015-12-02T01:32:25.000000000&#x27;,\n",
              "       &#x27;2015-12-02T01:32:30.000000000&#x27;, &#x27;2015-12-02T01:32:35.000000000&#x27;],\n",
              "      dtype=&#x27;datetime64[ns]&#x27;)</pre></li><li class='xr-var-item'><div class='xr-var-name'><span>D</span></div><div class='xr-var-dims'>(D_bin)</div><div class='xr-var-dtype'>float64</div><div class='xr-var-preview xr-preview'>...</div><input id='attrs-8d4e8242-6a6e-4c12-9b18-b02de39691a2' class='xr-var-attrs-in' type='checkbox' disabled><label for='attrs-8d4e8242-6a6e-4c12-9b18-b02de39691a2' title='Show/Hide attributes'><svg class='icon xr-icon-file-text2'><use xlink:href='#icon-file-text2'></use></svg></label><input id='data-0f80c321-33e6-4500-b733-df44d644d3f7' class='xr-var-data-in' type='checkbox'><label for='data-0f80c321-33e6-4500-b733-df44d644d3f7' title='Show/Hide data repr'><svg class='icon xr-icon-database'><use xlink:href='#icon-database'></use></svg></label><div class='xr-var-attrs'><dl class='xr-attrs'></dl></div><pre class='xr-var-data'>array([5.000e-05, 7.000e-05, 9.000e-05, 1.125e-04, 1.375e-04, 1.750e-04,\n",
              "       2.250e-04, 2.750e-04, 3.250e-04, 3.750e-04, 4.375e-04, 5.125e-04,\n",
              "       5.875e-04, 6.625e-04, 7.500e-04, 8.500e-04, 9.500e-04, 1.100e-03,\n",
              "       1.300e-03, 1.500e-03, 1.700e-03, 2.000e-03, 2.400e-03, 2.800e-03,\n",
              "       3.200e-03, 3.600e-03, 4.000e-03, 4.400e-03, 4.800e-03, 5.500e-03,\n",
              "       6.500e-03, 7.500e-03, 8.500e-03, 9.500e-03, 1.100e-02, 1.300e-02,\n",
              "       1.500e-02, 1.700e-02, 1.900e-02, 2.250e-02, 2.750e-02])</pre></li><li class='xr-var-item'><div class='xr-var-name'><span>dD</span></div><div class='xr-var-dims'>(D_bin)</div><div class='xr-var-dtype'>float64</div><div class='xr-var-preview xr-preview'>...</div><input id='attrs-19665c34-e39b-4207-ba51-2d7189ef494c' class='xr-var-attrs-in' type='checkbox' disabled><label for='attrs-19665c34-e39b-4207-ba51-2d7189ef494c' title='Show/Hide attributes'><svg class='icon xr-icon-file-text2'><use xlink:href='#icon-file-text2'></use></svg></label><input id='data-552cc6c3-d33a-4522-92b8-c281001d031c' class='xr-var-data-in' type='checkbox'><label for='data-552cc6c3-d33a-4522-92b8-c281001d031c' title='Show/Hide data repr'><svg class='icon xr-icon-database'><use xlink:href='#icon-database'></use></svg></label><div class='xr-var-attrs'><dl class='xr-attrs'></dl></div><pre class='xr-var-data'>array([2.0e-05, 2.0e-05, 2.0e-05, 2.5e-05, 2.5e-05, 5.0e-05, 5.0e-05, 5.0e-05,\n",
              "       5.0e-05, 5.0e-05, 7.5e-05, 7.5e-05, 7.5e-05, 7.5e-05, 1.0e-04, 1.0e-04,\n",
              "       1.0e-04, 2.0e-04, 2.0e-04, 2.0e-04, 2.0e-04, 4.0e-04, 4.0e-04, 4.0e-04,\n",
              "       4.0e-04, 4.0e-04, 4.0e-04, 4.0e-04, 4.0e-04, 1.0e-03, 1.0e-03, 1.0e-03,\n",
              "       1.0e-03, 1.0e-03, 2.0e-03, 2.0e-03, 2.0e-03, 2.0e-03, 2.0e-03, 5.0e-03,\n",
              "       5.0e-03])</pre></li></ul></div></li><li class='xr-section-item'><input id='section-24ee60ef-5502-44c6-91ef-807769b3f31c' class='xr-section-summary-in' type='checkbox'  checked><label for='section-24ee60ef-5502-44c6-91ef-807769b3f31c' class='xr-section-summary' >Attributes: <span>(2)</span></label><div class='xr-section-inline-details'></div><div class='xr-section-details'><dl class='xr-attrs'><dt><span>units :</span></dt><dd>m^-4</dd><dt><span>standard_name :</span></dt><dd>Sample N(D) from OLYMPEX 01 Dec 2015. 5-s averages. D is in m, dD is in m</dd></dl></div></li></ul></div></div>"
            ],
            "text/plain": [
              "<xarray.DataArray (n_sample: 2000, D_bin: 41)>\n",
              "array([[       0.      ,        0.      ,        0.      , ...,\n",
              "                    nan,             nan,             nan],\n",
              "       [            nan,             nan,             nan, ...,\n",
              "                    nan,             nan,             nan],\n",
              "       [            nan,             nan,             nan, ...,\n",
              "                    nan,             nan,             nan],\n",
              "       ...,\n",
              "       [30738672.269088,        0.      ,        0.      , ...,\n",
              "               0.      ,        0.      ,        0.      ],\n",
              "       [       0.      , 62776142.268432,  9493922.750473, ...,\n",
              "               0.      ,        0.      ,        0.      ],\n",
              "       [       0.      ,        0.      ,        0.      , ...,\n",
              "               0.      ,        0.      ,        0.      ]])\n",
              "Coordinates:\n",
              "    time     (n_sample) datetime64[ns] ...\n",
              "    D        (D_bin) float64 ...\n",
              "    dD       (D_bin) float64 ...\n",
              "Dimensions without coordinates: n_sample, D_bin\n",
              "Attributes:\n",
              "    units:          m^-4\n",
              "    standard_name:  Sample N(D) from OLYMPEX 01 Dec 2015. 5-s averages. D is ..."
            ]
          },
          "metadata": {
            "tags": []
          },
          "execution_count": 4
        }
      ]
    },
    {
      "cell_type": "code",
      "metadata": {
        "id": "hxon5WdFemxN",
        "colab_type": "code",
        "colab": {
          "base_uri": "https://localhost:8080/",
          "height": 153
        },
        "outputId": "daf824ec-beb0-430e-f107-867a1fa6f154"
      },
      "source": [
        "#initialize class\n",
        "Z = forward_Z()\n",
        "#git the class the PSD\n",
        "Z.set_PSD(PSD = np.asarray(psd.values,dtype=float),D=psd.D.values,dD=psd.dD.values)\n",
        "#load the leinonen output\n",
        "Z.load_split_L15()\n",
        "#fit the backscatter cross-sections \n",
        "Z.fit_sigmas()\n",
        "#calculate Z\n",
        "Z.calc_Z()"
      ],
      "execution_count": 25,
      "outputs": [
        {
          "output_type": "stream",
          "text": [
            "/content/Leinonen_Python_Forward_Model/forward.py:186: RuntimeWarning: divide by zero encountered in log10\n",
            "  Z_x = 10*np.log10(coef*np.nansum(self.sigma_x*self.PSD*self.dD,axis=1))\n",
            "/content/Leinonen_Python_Forward_Model/forward.py:187: RuntimeWarning: divide by zero encountered in log10\n",
            "  Z_ku = 10*np.log10(coef2*np.nansum(self.sigma_ku*self.PSD*self.dD,axis=1))\n",
            "/content/Leinonen_Python_Forward_Model/forward.py:188: RuntimeWarning: divide by zero encountered in log10\n",
            "  Z_ka = 10*np.log10(coef3*np.nansum(self.sigma_ka*self.PSD*self.dD,axis=1))\n",
            "/content/Leinonen_Python_Forward_Model/forward.py:189: RuntimeWarning: divide by zero encountered in log10\n",
            "  Z_w = 10*np.log10(coef4*np.nansum(self.sigma_w*self.PSD*self.dD,axis=1))\n"
          ],
          "name": "stderr"
        }
      ]
    },
    {
      "cell_type": "code",
      "metadata": {
        "id": "3XHn5c5SfUwh",
        "colab_type": "code",
        "colab": {
          "base_uri": "https://localhost:8080/",
          "height": 358
        },
        "outputId": "e83135b9-faee-42a1-b17e-1f95bd48924a"
      },
      "source": [
        "plt.figure(figsize=(10,5))\n",
        "labels = ['L00','L01','L02','L05','L10','L20']\n",
        "for i in np.arange(0,6):\n",
        "  plt.plot(psd.time.values,Z.Z_x[:,i],'-k',lw=(i+1)/4,label=labels[i])\n",
        "\n",
        "plt.legend()\n",
        "plt.xlabel('Time')\n",
        "plt.ylabel('Z, [dBZ]')"
      ],
      "execution_count": 53,
      "outputs": [
        {
          "output_type": "execute_result",
          "data": {
            "text/plain": [
              "Text(0, 0.5, 'Z, [dBZ]')"
            ]
          },
          "metadata": {
            "tags": []
          },
          "execution_count": 53
        },
        {
          "output_type": "display_data",
          "data": {
            "image/png": "[encoded data removed]",
            "text/plain": [
              "<Figure size 720x360 with 1 Axes>"
            ]
          },
          "metadata": {
            "tags": [],
            "needs_background": "light"
          }
        }
      ]
    }
  ]
}