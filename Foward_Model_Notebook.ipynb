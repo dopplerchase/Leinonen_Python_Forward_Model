{
  "nbformat": 4,
  "nbformat_minor": 0,
  "metadata": {
    "colab": {
      "name": "Foward_Model_Notebook.ipynb",
      "provenance": [],
      "authorship_tag": "ABX9TyO3kfJn+03AzxWNLvpG9uK9",
      "include_colab_link": true
    },
    "kernelspec": {
      "name": "python3",
      "display_name": "Python 3"
    }
  },
  "cells": [
    {
      "cell_type": "markdown",
      "metadata": {
        "id": "view-in-github",
        "colab_type": "text"
      },
      "source": [
        "<a href=\"https://colab.research.google.com/github/dopplerchase/Leinonen_Python_Forward_Model/blob/master/Foward_Model_Notebook.ipynb\" target=\"_parent\"><img src=\"https://colab.research.google.com/assets/colab-badge.svg\" alt=\"Open In Colab\"/></a>"
      ]
    },
    {
      "cell_type": "markdown",
      "metadata": {
        "id": "zqxgnfaYaeAe",
        "colab_type": "text"
      },
      "source": [
        "# Forward Modeling Z from a PSD (SNOW)\n",
        "\n",
        "Here is an example of calculating Z at common microwave wavelengths from a measured PSD. \n",
        "\n",
        "First up, download the repository. It has the code, sample data to play with and Leinonen and Szyrmer (2015)'s results. "
      ]
    },
    {
      "cell_type": "code",
      "metadata": {
        "id": "LL5-ep4PaTHX",
        "colab_type": "code",
        "colab": {
          "base_uri": "https://localhost:8080/",
          "height": 119
        },
        "outputId": "cc166d30-5965-461f-c5ed-3b9befe05cc1"
      },
      "source": [
        "!git clone https://github.com/dopplerchase/Leinonen_Python_Forward_Model.git"
      ],
      "execution_count": 1,
      "outputs": [
        {
          "output_type": "stream",
          "text": [
            "Cloning into 'Leinonen_Python_Forward_Model'...\n",
            "remote: Enumerating objects: 12, done.\u001b[K\n",
            "remote: Counting objects: 100% (12/12), done.\u001b[K\n",
            "remote: Compressing objects: 100% (11/11), done.\u001b[K\n",
            "remote: Total 21 (delta 2), reused 0 (delta 0), pack-reused 9\u001b[K\n",
            "Unpacking objects: 100% (21/21), done.\n"
          ],
          "name": "stdout"
        }
      ]
    },
    {
      "cell_type": "code",
      "metadata": {
        "id": "hx7OcQrKa3XE",
        "colab_type": "code",
        "colab": {}
      },
      "source": [
        ""
      ],
      "execution_count": 0,
      "outputs": []
    }
  ]
}